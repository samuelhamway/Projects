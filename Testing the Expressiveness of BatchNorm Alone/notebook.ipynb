{
  "cells": [
    {
      "cell_type": "markdown",
      "metadata": {
        "id": "S0DBItECGvJQ"
      },
      "source": [
        "# GPU setup(edit -> Notebook Setting)"
      ]
    },
    {
      "cell_type": "code",
      "execution_count": null,
      "metadata": {
        "colab": {
          "base_uri": "https://localhost:8080/",
          "height": 217
        },
        "id": "3GkENqLubBno",
        "outputId": "2ee6094b-d753-409d-95da-55c809596e0a"
      },
      "outputs": [
        {
          "name": "stderr",
          "output_type": "stream",
          "text": [
            "2021-12-13 04:20:21.362509: I tensorflow/stream_executor/platform/default/dso_loader.cc:53] Successfully opened dynamic library libcudart.so.11.0\n"
          ]
        },
        {
          "name": "stdout",
          "output_type": "stream",
          "text": [
            "Found GPU at: /device:GPU:0\n"
          ]
        },
        {
          "name": "stderr",
          "output_type": "stream",
          "text": [
            "2021-12-13 04:20:23.205960: I tensorflow/core/platform/cpu_feature_guard.cc:142] This TensorFlow binary is optimized with oneAPI Deep Neural Network Library (oneDNN) to use the following CPU instructions in performance-critical operations:  AVX2 FMA\n",
            "To enable them in other operations, rebuild TensorFlow with the appropriate compiler flags.\n",
            "2021-12-13 04:20:23.209588: I tensorflow/stream_executor/platform/default/dso_loader.cc:53] Successfully opened dynamic library libcuda.so.1\n",
            "2021-12-13 04:20:23.708994: I tensorflow/stream_executor/cuda/cuda_gpu_executor.cc:923] could not open file to read NUMA node: /sys/bus/pci/devices/0000:01:00.0/numa_node\n",
            "Your kernel may have been built without NUMA support.\n",
            "2021-12-13 04:20:23.709486: I tensorflow/core/common_runtime/gpu/gpu_device.cc:1733] Found device 0 with properties: \n",
            "pciBusID: 0000:01:00.0 name: NVIDIA GeForce GTX 1050 computeCapability: 6.1\n",
            "coreClock: 1.493GHz coreCount: 5 deviceMemorySize: 2.00GiB deviceMemoryBandwidth: 104.43GiB/s\n",
            "2021-12-13 04:20:23.709514: I tensorflow/stream_executor/platform/default/dso_loader.cc:53] Successfully opened dynamic library libcudart.so.11.0\n",
            "2021-12-13 04:20:23.763683: I tensorflow/stream_executor/platform/default/dso_loader.cc:53] Successfully opened dynamic library libcublas.so.11\n",
            "2021-12-13 04:20:23.763823: I tensorflow/stream_executor/platform/default/dso_loader.cc:53] Successfully opened dynamic library libcublasLt.so.11\n",
            "2021-12-13 04:20:23.820530: I tensorflow/stream_executor/platform/default/dso_loader.cc:53] Successfully opened dynamic library libcufft.so.10\n",
            "2021-12-13 04:20:23.822968: I tensorflow/stream_executor/platform/default/dso_loader.cc:53] Successfully opened dynamic library libcurand.so.10\n",
            "2021-12-13 04:20:23.829390: I tensorflow/stream_executor/platform/default/dso_loader.cc:53] Successfully opened dynamic library libcusolver.so.11\n",
            "2021-12-13 04:20:23.848079: I tensorflow/stream_executor/platform/default/dso_loader.cc:53] Successfully opened dynamic library libcusparse.so.11\n",
            "2021-12-13 04:20:23.849608: I tensorflow/stream_executor/platform/default/dso_loader.cc:53] Successfully opened dynamic library libcudnn.so.8\n",
            "2021-12-13 04:20:23.850869: I tensorflow/stream_executor/cuda/cuda_gpu_executor.cc:923] could not open file to read NUMA node: /sys/bus/pci/devices/0000:01:00.0/numa_node\n",
            "Your kernel may have been built without NUMA support.\n",
            "2021-12-13 04:20:23.852296: I tensorflow/stream_executor/cuda/cuda_gpu_executor.cc:923] could not open file to read NUMA node: /sys/bus/pci/devices/0000:01:00.0/numa_node\n",
            "Your kernel may have been built without NUMA support.\n",
            "2021-12-13 04:20:23.852687: I tensorflow/core/common_runtime/gpu/gpu_device.cc:1871] Adding visible gpu devices: 0\n",
            "2021-12-13 04:20:23.852949: I tensorflow/stream_executor/platform/default/dso_loader.cc:53] Successfully opened dynamic library libcudart.so.11.0\n",
            "2021-12-13 04:20:25.122221: I tensorflow/core/common_runtime/gpu/gpu_device.cc:1258] Device interconnect StreamExecutor with strength 1 edge matrix:\n",
            "2021-12-13 04:20:25.122374: I tensorflow/core/common_runtime/gpu/gpu_device.cc:1264]      0 \n",
            "2021-12-13 04:20:25.122423: I tensorflow/core/common_runtime/gpu/gpu_device.cc:1277] 0:   N \n",
            "2021-12-13 04:20:25.125179: I tensorflow/stream_executor/cuda/cuda_gpu_executor.cc:923] could not open file to read NUMA node: /sys/bus/pci/devices/0000:01:00.0/numa_node\n",
            "Your kernel may have been built without NUMA support.\n",
            "2021-12-13 04:20:25.126936: I tensorflow/stream_executor/cuda/cuda_gpu_executor.cc:923] could not open file to read NUMA node: /sys/bus/pci/devices/0000:01:00.0/numa_node\n",
            "Your kernel may have been built without NUMA support.\n",
            "2021-12-13 04:20:25.127399: I tensorflow/core/common_runtime/gpu/gpu_device.cc:1501] Could not identify NUMA node of platform GPU id 0, defaulting to 0.  Your kernel may not have been built with NUMA support.\n",
            "2021-12-13 04:20:25.128700: I tensorflow/stream_executor/cuda/cuda_gpu_executor.cc:923] could not open file to read NUMA node: /sys/bus/pci/devices/0000:01:00.0/numa_node\n",
            "Your kernel may have been built without NUMA support.\n",
            "2021-12-13 04:20:25.129476: I tensorflow/core/common_runtime/gpu/gpu_device.cc:1418] Created TensorFlow device (/device:GPU:0 with 1301 MB memory) -> physical GPU (device: 0, name: NVIDIA GeForce GTX 1050, pci bus id: 0000:01:00.0, compute capability: 6.1)\n"
          ]
        }
      ],
      "source": [
        "import tensorflow as tf\n",
        "device_name = tf.test.gpu_device_name()\n",
        "if device_name != '/device:GPU:0':\n",
        "  raise SystemError('GPU device not found')\n",
        "print('Found GPU at: {}'.format(device_name))"
      ]
    },
    {
      "cell_type": "code",
      "execution_count": null,
      "metadata": {
        "id": "KiLSBD8C_N9h",
        "outputId": "f825c239-3f47-4049-f2a6-c1aa13f7c4a7"
      },
      "outputs": [
        {
          "name": "stdout",
          "output_type": "stream",
          "text": [
            "Mon Dec 13 04:20:28 2021       \n",
            "+-----------------------------------------------------------------------------+\n",
            "| NVIDIA-SMI 495.29.05    Driver Version: 471.96       CUDA Version: 11.4     |\n",
            "|-------------------------------+----------------------+----------------------+\n",
            "| GPU  Name        Persistence-M| Bus-Id        Disp.A | Volatile Uncorr. ECC |\n",
            "| Fan  Temp  Perf  Pwr:Usage/Cap|         Memory-Usage | GPU-Util  Compute M. |\n",
            "|                               |                      |               MIG M. |\n",
            "|===============================+======================+======================|\n",
            "|   0  NVIDIA GeForce ...  Off  | 00000000:01:00.0 Off |                  N/A |\n",
            "| N/A   50C    P0    N/A /  N/A |    225MiB /  2048MiB |    ERR!      Default |\n",
            "|                               |                      |                  N/A |\n",
            "+-------------------------------+----------------------+----------------------+\n",
            "                                                                               \n",
            "+-----------------------------------------------------------------------------+\n",
            "| Processes:                                                                  |\n",
            "|  GPU   GI   CI        PID   Type   Process name                  GPU Memory |\n",
            "|        ID   ID                                                   Usage      |\n",
            "|=============================================================================|\n",
            "|  No running processes found                                                 |\n",
            "+-----------------------------------------------------------------------------+\n"
          ]
        }
      ],
      "source": [
        "!nvidia-smi"
      ]
    },
    {
      "cell_type": "markdown",
      "metadata": {
        "id": "r8LX9GqUHq4U"
      },
      "source": [
        "# Data"
      ]
    },
    {
      "cell_type": "code",
      "execution_count": null,
      "metadata": {
        "id": "OfERbEplltGd"
      },
      "outputs": [],
      "source": [
        "import numpy as np\n",
        "# take a subset of all data, shuffle them as well\n",
        "(x_train, y_train), (x_test, y_test) = tf.keras.datasets.cifar10.load_data()\n",
        "subset_ratio = 0.1\n",
        "\n",
        "train_index = np.random.permutation(len(x_train))\n",
        "test_index = np.random.permutation(len(x_test))\n",
        "\n",
        "train_index = train_index[: int(len(train_index) * subset_ratio)]\n",
        "test_index = test_index[: int(len(test_index) * subset_ratio)]\n",
        "\n",
        "x_train,y_train = x_train[train_index],y_train[train_index]\n",
        "x_test,y_test = x_test[test_index],y_test[test_index]"
      ]
    },
    {
      "cell_type": "markdown",
      "metadata": {
        "id": "9BlV4O8EGknh"
      },
      "source": [
        "# Baseline Resnet"
      ]
    },
    {
      "cell_type": "code",
      "execution_count": null,
      "metadata": {
        "id": "MNQo0mF0-ZGE"
      },
      "outputs": [],
      "source": [
        "# credit https://arxiv.org/abs/1512.03385\n",
        "from pathlib import Path\n",
        "if Path(\"./resnet_cifar10.py\").is_file():\n",
        "    pass\n",
        "else:\n",
        "    !wget https://raw.githubusercontent.com/GoogleCloudPlatform/keras-idiomatic-programmer/master/zoo/resnet/resnet_cifar10.py\n",
        "    \n",
        "import resnet_cifar10"
      ]
    },
    {
      "cell_type": "code",
      "execution_count": null,
      "metadata": {
        "id": "oep-wLg5LTek"
      },
      "outputs": [],
      "source": [
        "# formulae from original implementation credit: https://arxiv.org/abs/1512.03385\n",
        "def get_n_block_from_depth(depth):\n",
        "  n_blocks = ((depth - 2) // 9) - 1\n",
        "  return n_blocks"
      ]
    },
    {
      "cell_type": "code",
      "execution_count": null,
      "metadata": {
        "id": "eYwljRZ1MhZI"
      },
      "outputs": [],
      "source": [
        "\n",
        "# this is adapted from credit: https://github.com/sayakpaul/Training-BatchNorm-and-Only-BatchNorm/blob/master/CIFAR10_Subset.ipynb\n",
        "def get_Res_N(depth,n_categories):\n",
        "    n_blocks = get_n_block_from_depth(depth)\n",
        "\n",
        "    inputs = tf.keras.layers.Input(shape=(32, 32, 3))\n",
        "\n",
        "    x = resnet_cifar10.stem(inputs)\n",
        "\n",
        "    x = resnet_cifar10.learner(x, n_blocks)\n",
        "\n",
        "    outputs = resnet_cifar10.classifier(x, n_categories)\n",
        "\n",
        "    model = tf.keras.Model(inputs, outputs)\n",
        "    \n",
        "    return model"
      ]
    },
    {
      "cell_type": "code",
      "execution_count": null,
      "metadata": {
        "colab": {
          "base_uri": "https://localhost:8080/",
          "height": 588
        },
        "id": "w8ShNVQ0NNwM",
        "outputId": "97161bf5-40ff-4b00-daab-975a006fb7f3"
      },
      "outputs": [
        {
          "name": "stdout",
          "output_type": "stream",
          "text": [
            "Epoch 1/30\n",
            "157/157 [==============================] - 78s 378ms/step - loss: 1.9343 - accuracy: 0.2916 - val_loss: 3.6799 - val_accuracy: 0.2240\n",
            "Epoch 2/30\n",
            "157/157 [==============================] - 59s 375ms/step - loss: 1.6318 - accuracy: 0.4022 - val_loss: 2.1393 - val_accuracy: 0.2950\n",
            "Epoch 3/30\n",
            "157/157 [==============================] - 61s 389ms/step - loss: 1.4836 - accuracy: 0.4558 - val_loss: 2.9868 - val_accuracy: 0.2190\n",
            "Epoch 4/30\n",
            "157/157 [==============================] - 60s 380ms/step - loss: 1.3838 - accuracy: 0.4956 - val_loss: 1.8180 - val_accuracy: 0.3870\n",
            "Epoch 5/30\n",
            "157/157 [==============================] - 58s 369ms/step - loss: 1.2622 - accuracy: 0.5440 - val_loss: 3.0293 - val_accuracy: 0.3050\n",
            "Epoch 6/30\n",
            "157/157 [==============================] - 58s 369ms/step - loss: 1.1679 - accuracy: 0.5826 - val_loss: 1.8937 - val_accuracy: 0.4220\n",
            "Epoch 7/30\n",
            "157/157 [==============================] - 57s 363ms/step - loss: 1.0707 - accuracy: 0.6090 - val_loss: 1.7671 - val_accuracy: 0.4270\n",
            "Epoch 8/30\n",
            "157/157 [==============================] - 58s 372ms/step - loss: 0.9799 - accuracy: 0.6482 - val_loss: 2.3157 - val_accuracy: 0.3830\n",
            "Epoch 9/30\n",
            "157/157 [==============================] - 58s 372ms/step - loss: 0.8904 - accuracy: 0.6856 - val_loss: 1.6462 - val_accuracy: 0.4740\n",
            "Epoch 10/30\n",
            "157/157 [==============================] - 57s 365ms/step - loss: 0.7959 - accuracy: 0.7214 - val_loss: 1.7254 - val_accuracy: 0.4620\n",
            "Epoch 11/30\n",
            "157/157 [==============================] - 57s 364ms/step - loss: 0.6875 - accuracy: 0.7670 - val_loss: 1.9985 - val_accuracy: 0.4730\n",
            "Epoch 12/30\n",
            "157/157 [==============================] - 57s 366ms/step - loss: 0.5595 - accuracy: 0.8098 - val_loss: 2.2307 - val_accuracy: 0.4680\n",
            "Epoch 13/30\n",
            "157/157 [==============================] - 57s 363ms/step - loss: 0.4826 - accuracy: 0.8384 - val_loss: 2.4540 - val_accuracy: 0.4260\n",
            "Epoch 14/30\n",
            "157/157 [==============================] - 57s 365ms/step - loss: 0.4051 - accuracy: 0.8666 - val_loss: 2.1979 - val_accuracy: 0.4400\n",
            "Epoch 15/30\n",
            "157/157 [==============================] - 58s 367ms/step - loss: 0.3097 - accuracy: 0.8940 - val_loss: 1.7985 - val_accuracy: 0.4930\n",
            "Epoch 16/30\n",
            "157/157 [==============================] - 56s 359ms/step - loss: 0.2817 - accuracy: 0.9080 - val_loss: 2.1849 - val_accuracy: 0.5200\n",
            "Epoch 17/30\n",
            "157/157 [==============================] - 56s 359ms/step - loss: 0.2340 - accuracy: 0.9180 - val_loss: 2.2331 - val_accuracy: 0.4820\n",
            "Epoch 18/30\n",
            "157/157 [==============================] - 57s 364ms/step - loss: 0.1910 - accuracy: 0.9366 - val_loss: 2.4542 - val_accuracy: 0.4630\n",
            "Epoch 19/30\n",
            "157/157 [==============================] - 57s 365ms/step - loss: 0.1801 - accuracy: 0.9414 - val_loss: 3.2686 - val_accuracy: 0.4330\n",
            "Epoch 20/30\n",
            "157/157 [==============================] - 56s 355ms/step - loss: 0.1516 - accuracy: 0.9484 - val_loss: 2.0548 - val_accuracy: 0.5150\n",
            "Epoch 21/30\n",
            "157/157 [==============================] - 58s 368ms/step - loss: 0.1132 - accuracy: 0.9630 - val_loss: 1.9715 - val_accuracy: 0.5310\n",
            "Epoch 22/30\n",
            "157/157 [==============================] - 57s 362ms/step - loss: 0.0957 - accuracy: 0.9702 - val_loss: 2.2705 - val_accuracy: 0.5320\n",
            "Epoch 23/30\n",
            "157/157 [==============================] - 63s 399ms/step - loss: 0.1125 - accuracy: 0.9618 - val_loss: 2.7701 - val_accuracy: 0.4820\n",
            "Epoch 24/30\n",
            "157/157 [==============================] - 56s 357ms/step - loss: 0.1029 - accuracy: 0.9686 - val_loss: 2.6785 - val_accuracy: 0.5130\n",
            "Epoch 25/30\n",
            "157/157 [==============================] - 57s 362ms/step - loss: 0.0905 - accuracy: 0.9716 - val_loss: 2.4525 - val_accuracy: 0.4990\n",
            "Epoch 26/30\n",
            "157/157 [==============================] - 62s 394ms/step - loss: 0.0807 - accuracy: 0.9740 - val_loss: 2.1945 - val_accuracy: 0.5330\n",
            "Epoch 27/30\n",
            "157/157 [==============================] - 59s 375ms/step - loss: 0.0594 - accuracy: 0.9824 - val_loss: 2.0746 - val_accuracy: 0.5380\n",
            "Epoch 28/30\n",
            "157/157 [==============================] - 60s 385ms/step - loss: 0.0873 - accuracy: 0.9712 - val_loss: 5.6136 - val_accuracy: 0.3760\n",
            "Epoch 29/30\n",
            "157/157 [==============================] - 57s 365ms/step - loss: 0.1132 - accuracy: 0.9602 - val_loss: 2.5163 - val_accuracy: 0.4950\n",
            "Epoch 30/30\n",
            "157/157 [==============================] - 59s 375ms/step - loss: 0.1045 - accuracy: 0.9660 - val_loss: 3.2782 - val_accuracy: 0.4860\n"
          ]
        }
      ],
      "source": [
        "# baseline model\n",
        "base_line = get_Res_N(200,10)\n",
        "base_line.compile(loss=\"sparse_categorical_crossentropy\", optimizer=\"adam\", metrics=[\"accuracy\"])\n",
        "h_base = base_line.fit(x_train,y_train,\n",
        "         validation_data=(x_test,y_test),\n",
        "         epochs=30,verbose=1)"
      ]
    },
    {
      "cell_type": "code",
      "execution_count": null,
      "metadata": {
        "id": "AfgLx-I6_N9n"
      },
      "outputs": [],
      "source": [
        "import matplotlib.pyplot as plt\n",
        "def show_history(x,history:dict,title=\"\"):\n",
        "    plt.figure()\n",
        "    plt.title(title + \" Loss/Accuracy vs Epoch\")\n",
        "    plt.xlabel(\"Epoch\")\n",
        "    plt.ylabel(\"Loss/Accuracy\")\n",
        "    for key,value in history.items():\n",
        "        plt.plot(x,value,label = key)\n",
        "    plt.legend()\n",
        "    plt.show()\n",
        "\n",
        "\t"
      ]
    },
    {
      "cell_type": "code",
      "execution_count": null,
      "metadata": {
        "id": "oeD8hmSx_N9o",
        "outputId": "be086928-64db-4ee8-e1ef-8aa6cdfd6a9e"
      },
      "outputs": [
        {
          "data": {
            "image/png": "[encoded data removed]",
            "text/plain": [
              "<Figure size 432x288 with 1 Axes>"
            ]
          },
          "metadata": {
            "needs_background": "light"
          },
          "output_type": "display_data"
        }
      ],
      "source": [
        "show_history(np.arange(30),h_base.history,\"base line\")"
      ]
    },
    {
      "cell_type": "markdown",
      "metadata": {
        "id": "rbuevrIXPIsz"
      },
      "source": [
        "# Claim 1: When training only γ and β, sufficiently deep networks (e.g., ResNet-866 and ResNet-200) reach surprisingly high (although non-SOTA) accuracy: 82% on CIFAR-10 and 32% top-5 on ImageNet. This demonstrates the expressive power of the affine BatchNorm parameters."
      ]
    },
    {
      "cell_type": "code",
      "execution_count": null,
      "metadata": {
        "id": "egbXMoNW1DgQ",
        "outputId": "1efe0f50-cbaf-45c3-d26e-e5b50b906be3"
      },
      "outputs": [
        {
          "name": "stdout",
          "output_type": "stream",
          "text": [
            "Epoch 1/30\n",
            "157/157 [==============================] - 61s 275ms/step - loss: 2.2928 - accuracy: 0.1328 - val_loss: 2.4976 - val_accuracy: 0.1300\n",
            "Epoch 2/30\n",
            "157/157 [==============================] - 41s 263ms/step - loss: 2.2555 - accuracy: 0.1642 - val_loss: 2.2710 - val_accuracy: 0.1670\n",
            "Epoch 3/30\n",
            "157/157 [==============================] - 40s 255ms/step - loss: 2.2309 - accuracy: 0.1826 - val_loss: 2.2445 - val_accuracy: 0.1820\n",
            "Epoch 4/30\n",
            "157/157 [==============================] - 40s 256ms/step - loss: 2.2054 - accuracy: 0.2072 - val_loss: 2.2164 - val_accuracy: 0.1880\n",
            "Epoch 5/30\n",
            "157/157 [==============================] - 40s 253ms/step - loss: 2.1756 - accuracy: 0.2164 - val_loss: 2.1815 - val_accuracy: 0.1860\n",
            "Epoch 6/30\n",
            "157/157 [==============================] - 39s 249ms/step - loss: 2.1287 - accuracy: 0.2216 - val_loss: 2.1368 - val_accuracy: 0.2060\n",
            "Epoch 7/30\n",
            "157/157 [==============================] - 39s 249ms/step - loss: 2.0823 - accuracy: 0.2358 - val_loss: 2.0975 - val_accuracy: 0.2120\n",
            "Epoch 8/30\n",
            "157/157 [==============================] - 39s 251ms/step - loss: 2.0445 - accuracy: 0.2506 - val_loss: 2.0702 - val_accuracy: 0.2300\n",
            "Epoch 9/30\n",
            "157/157 [==============================] - 40s 253ms/step - loss: 2.0212 - accuracy: 0.2668 - val_loss: 2.0612 - val_accuracy: 0.2320\n",
            "Epoch 10/30\n",
            "157/157 [==============================] - 42s 267ms/step - loss: 1.9969 - accuracy: 0.2608 - val_loss: 2.0516 - val_accuracy: 0.2280\n",
            "Epoch 11/30\n",
            "157/157 [==============================] - 39s 251ms/step - loss: 1.9930 - accuracy: 0.2686 - val_loss: 2.0358 - val_accuracy: 0.2400\n",
            "Epoch 12/30\n",
            "157/157 [==============================] - 40s 253ms/step - loss: 1.9703 - accuracy: 0.2758 - val_loss: 2.0150 - val_accuracy: 0.2530\n",
            "Epoch 13/30\n",
            "157/157 [==============================] - 40s 254ms/step - loss: 1.9489 - accuracy: 0.2944 - val_loss: 2.0083 - val_accuracy: 0.2490\n",
            "Epoch 14/30\n",
            "157/157 [==============================] - 41s 260ms/step - loss: 1.9331 - accuracy: 0.2966 - val_loss: 1.9905 - val_accuracy: 0.2610\n",
            "Epoch 15/30\n",
            "157/157 [==============================] - 39s 251ms/step - loss: 1.9243 - accuracy: 0.2934 - val_loss: 1.9693 - val_accuracy: 0.2640\n",
            "Epoch 16/30\n",
            "157/157 [==============================] - 39s 251ms/step - loss: 1.9051 - accuracy: 0.3082 - val_loss: 1.9727 - val_accuracy: 0.2720\n",
            "Epoch 17/30\n",
            "157/157 [==============================] - 40s 254ms/step - loss: 1.8920 - accuracy: 0.3002 - val_loss: 1.9502 - val_accuracy: 0.2740\n",
            "Epoch 18/30\n",
            "157/157 [==============================] - 40s 254ms/step - loss: 1.8794 - accuracy: 0.3156 - val_loss: 1.9387 - val_accuracy: 0.2870\n",
            "Epoch 19/30\n",
            "157/157 [==============================] - 40s 253ms/step - loss: 1.8636 - accuracy: 0.3170 - val_loss: 1.9259 - val_accuracy: 0.2890\n",
            "Epoch 20/30\n",
            "157/157 [==============================] - 40s 253ms/step - loss: 1.8465 - accuracy: 0.3280 - val_loss: 1.9119 - val_accuracy: 0.2910\n",
            "Epoch 21/30\n",
            "157/157 [==============================] - 43s 275ms/step - loss: 1.8356 - accuracy: 0.3274 - val_loss: 1.9014 - val_accuracy: 0.3120\n",
            "Epoch 22/30\n",
            "157/157 [==============================] - 40s 255ms/step - loss: 1.8254 - accuracy: 0.3376 - val_loss: 1.8906 - val_accuracy: 0.3130\n",
            "Epoch 23/30\n",
            "157/157 [==============================] - 44s 278ms/step - loss: 1.8168 - accuracy: 0.3400 - val_loss: 1.8775 - val_accuracy: 0.3120\n",
            "Epoch 24/30\n",
            "157/157 [==============================] - 41s 260ms/step - loss: 1.7962 - accuracy: 0.3476 - val_loss: 1.8802 - val_accuracy: 0.3100\n",
            "Epoch 25/30\n",
            "157/157 [==============================] - 40s 256ms/step - loss: 1.7811 - accuracy: 0.3486 - val_loss: 1.8604 - val_accuracy: 0.3170\n",
            "Epoch 26/30\n",
            "157/157 [==============================] - 40s 254ms/step - loss: 1.7781 - accuracy: 0.3516 - val_loss: 1.8494 - val_accuracy: 0.3300\n",
            "Epoch 27/30\n",
            "157/157 [==============================] - 40s 256ms/step - loss: 1.7629 - accuracy: 0.3580 - val_loss: 1.8218 - val_accuracy: 0.3360\n",
            "Epoch 28/30\n",
            "157/157 [==============================] - 41s 259ms/step - loss: 1.7439 - accuracy: 0.3756 - val_loss: 1.8227 - val_accuracy: 0.3460\n",
            "Epoch 29/30\n",
            "157/157 [==============================] - 42s 266ms/step - loss: 1.7268 - accuracy: 0.3796 - val_loss: 1.8060 - val_accuracy: 0.3430\n",
            "Epoch 30/30\n",
            "157/157 [==============================] - 41s 262ms/step - loss: 1.7160 - accuracy: 0.3752 - val_loss: 1.8033 - val_accuracy: 0.3420\n"
          ]
        }
      ],
      "source": [
        "# freeze all except batchnorm parameters credit: https://github.com/sayakpaul/Training-BatchNorm-and-Only-BatchNorm/blob/master/CIFAR10_Subset.ipynb\n",
        "res200_bn_only = get_Res_N(200,10)\n",
        "for layer in res200_bn_only.layers:\n",
        "    if not isinstance(layer, tf.keras.layers.BatchNormalization):\n",
        "        if hasattr(layer, \"trainable\"):\n",
        "            layer.trainable=False\n",
        "            \n",
        "res200_bn_only.compile(loss=\"sparse_categorical_crossentropy\", optimizer=\"adam\", metrics=[\"accuracy\"])\n",
        "h_bn_only = res200_bn_only.fit(x_train,y_train,\n",
        "         validation_data=(x_test,y_test),\n",
        "         epochs=30)"
      ]
    },
    {
      "cell_type": "code",
      "execution_count": null,
      "metadata": {
        "id": "amkQev3__N9p",
        "outputId": "83dab976-df16-4d72-9c73-94bed97a50c9"
      },
      "outputs": [
        {
          "data": {
            "image/png": "[encoded data removed]",
            "text/plain": [
              "<Figure size 432x288 with 1 Axes>"
            ]
          },
          "metadata": {
            "needs_background": "light"
          },
          "output_type": "display_data"
        }
      ],
      "source": [
        "show_history(np.arange(30),h_bn_only.history,\"res200 batch only\")"
      ]
    },
    {
      "cell_type": "markdown",
      "metadata": {
        "id": "mzOsuTxXT3_l"
      },
      "source": [
        "# Claim 2 : When training only BatchNorm, γ naturally learns to disable between a quarter to half of all channels by converging to values close to zero. This demonstrates that γ and β achieve this accuracy in part by imposing per-feature sparsity."
      ]
    },
    {
      "cell_type": "code",
      "execution_count": null,
      "metadata": {
        "id": "OrND7ZO4_N9q",
        "outputId": "3355bbd4-a0f5-4104-d519-5bd080e69c6a"
      },
      "outputs": [
        {
          "name": "stdout",
          "output_type": "stream",
          "text": [
            "Epoch 1/100\n",
            "157/157 [==============================] - 5s 28ms/step - loss: 2.3548 - accuracy: 0.1092 - val_loss: 2.3312 - val_accuracy: 0.1210\n",
            "Epoch 2/100\n",
            "157/157 [==============================] - 4s 26ms/step - loss: 2.2362 - accuracy: 0.1826 - val_loss: 2.2199 - val_accuracy: 0.1820\n",
            "Epoch 3/100\n",
            "157/157 [==============================] - 4s 26ms/step - loss: 2.1656 - accuracy: 0.2350 - val_loss: 2.1630 - val_accuracy: 0.2160\n",
            "Epoch 4/100\n",
            "157/157 [==============================] - 4s 26ms/step - loss: 2.1098 - accuracy: 0.2620 - val_loss: 2.1124 - val_accuracy: 0.2300\n",
            "Epoch 5/100\n",
            "157/157 [==============================] - 4s 27ms/step - loss: 2.0585 - accuracy: 0.2754 - val_loss: 2.0720 - val_accuracy: 0.2480\n",
            "Epoch 6/100\n",
            "157/157 [==============================] - 4s 27ms/step - loss: 2.0182 - accuracy: 0.2934 - val_loss: 2.0408 - val_accuracy: 0.2490\n",
            "Epoch 7/100\n",
            "157/157 [==============================] - 4s 26ms/step - loss: 1.9916 - accuracy: 0.2944 - val_loss: 2.0175 - val_accuracy: 0.2520\n",
            "Epoch 8/100\n",
            "157/157 [==============================] - 5s 29ms/step - loss: 1.9629 - accuracy: 0.3032 - val_loss: 1.9989 - val_accuracy: 0.2570\n",
            "Epoch 9/100\n",
            "157/157 [==============================] - 5s 29ms/step - loss: 1.9413 - accuracy: 0.3122 - val_loss: 1.9824 - val_accuracy: 0.2670\n",
            "Epoch 10/100\n",
            "157/157 [==============================] - 4s 26ms/step - loss: 1.9191 - accuracy: 0.3198 - val_loss: 1.9673 - val_accuracy: 0.2650\n",
            "Epoch 11/100\n",
            "157/157 [==============================] - 4s 26ms/step - loss: 1.8989 - accuracy: 0.3340 - val_loss: 1.9548 - val_accuracy: 0.2790\n",
            "Epoch 12/100\n",
            "157/157 [==============================] - 4s 26ms/step - loss: 1.8829 - accuracy: 0.3348 - val_loss: 1.9432 - val_accuracy: 0.2780\n",
            "Epoch 13/100\n",
            "157/157 [==============================] - 4s 26ms/step - loss: 1.8793 - accuracy: 0.3294 - val_loss: 1.9314 - val_accuracy: 0.2850\n",
            "Epoch 14/100\n",
            "157/157 [==============================] - 4s 25ms/step - loss: 1.8564 - accuracy: 0.3502 - val_loss: 1.9225 - val_accuracy: 0.2850\n",
            "Epoch 15/100\n",
            "157/157 [==============================] - 4s 25ms/step - loss: 1.8452 - accuracy: 0.3484 - val_loss: 1.9131 - val_accuracy: 0.2880\n",
            "Epoch 16/100\n",
            "157/157 [==============================] - 4s 25ms/step - loss: 1.8335 - accuracy: 0.3468 - val_loss: 1.9014 - val_accuracy: 0.3030\n",
            "Epoch 17/100\n",
            "157/157 [==============================] - 4s 28ms/step - loss: 1.8230 - accuracy: 0.3490 - val_loss: 1.8934 - val_accuracy: 0.3010\n",
            "Epoch 18/100\n",
            "157/157 [==============================] - 4s 26ms/step - loss: 1.8098 - accuracy: 0.3594 - val_loss: 1.8829 - val_accuracy: 0.3000\n",
            "Epoch 19/100\n",
            "157/157 [==============================] - 4s 25ms/step - loss: 1.7997 - accuracy: 0.3582 - val_loss: 1.8741 - val_accuracy: 0.3090\n",
            "Epoch 20/100\n",
            "157/157 [==============================] - 4s 26ms/step - loss: 1.7852 - accuracy: 0.3658 - val_loss: 1.8701 - val_accuracy: 0.3090\n",
            "Epoch 21/100\n",
            "157/157 [==============================] - 4s 28ms/step - loss: 1.7744 - accuracy: 0.3670 - val_loss: 1.8564 - val_accuracy: 0.3100\n",
            "Epoch 22/100\n",
            "157/157 [==============================] - 4s 26ms/step - loss: 1.7689 - accuracy: 0.3796 - val_loss: 1.8473 - val_accuracy: 0.3150\n",
            "Epoch 23/100\n",
            "157/157 [==============================] - 4s 26ms/step - loss: 1.7607 - accuracy: 0.3706 - val_loss: 1.8393 - val_accuracy: 0.3220\n",
            "Epoch 24/100\n",
            "157/157 [==============================] - 5s 29ms/step - loss: 1.7468 - accuracy: 0.3862 - val_loss: 1.8336 - val_accuracy: 0.3260\n",
            "Epoch 25/100\n",
            "157/157 [==============================] - 4s 26ms/step - loss: 1.7376 - accuracy: 0.3804 - val_loss: 1.8287 - val_accuracy: 0.3180\n",
            "Epoch 26/100\n",
            "157/157 [==============================] - 4s 25ms/step - loss: 1.7364 - accuracy: 0.3776 - val_loss: 1.8227 - val_accuracy: 0.3210\n",
            "Epoch 27/100\n",
            "157/157 [==============================] - 4s 26ms/step - loss: 1.7258 - accuracy: 0.3856 - val_loss: 1.8158 - val_accuracy: 0.3290\n",
            "Epoch 28/100\n",
            "157/157 [==============================] - 4s 27ms/step - loss: 1.7201 - accuracy: 0.3816 - val_loss: 1.8061 - val_accuracy: 0.3280\n",
            "Epoch 29/100\n",
            "157/157 [==============================] - 4s 27ms/step - loss: 1.7127 - accuracy: 0.3904 - val_loss: 1.8011 - val_accuracy: 0.3330\n",
            "Epoch 30/100\n",
            "157/157 [==============================] - 4s 25ms/step - loss: 1.7101 - accuracy: 0.3810 - val_loss: 1.7990 - val_accuracy: 0.3410\n",
            "Epoch 31/100\n",
            "157/157 [==============================] - 4s 26ms/step - loss: 1.7009 - accuracy: 0.3902 - val_loss: 1.7935 - val_accuracy: 0.3440\n",
            "Epoch 32/100\n",
            "157/157 [==============================] - 4s 26ms/step - loss: 1.6888 - accuracy: 0.3952 - val_loss: 1.7908 - val_accuracy: 0.3390\n",
            "Epoch 33/100\n",
            "157/157 [==============================] - 4s 26ms/step - loss: 1.6910 - accuracy: 0.3938 - val_loss: 1.7783 - val_accuracy: 0.3460\n",
            "Epoch 34/100\n",
            "157/157 [==============================] - 4s 27ms/step - loss: 1.6818 - accuracy: 0.4000 - val_loss: 1.7737 - val_accuracy: 0.3460\n",
            "Epoch 35/100\n",
            "157/157 [==============================] - 4s 26ms/step - loss: 1.6696 - accuracy: 0.4010 - val_loss: 1.7769 - val_accuracy: 0.3450\n",
            "Epoch 36/100\n",
            "157/157 [==============================] - 4s 27ms/step - loss: 1.6683 - accuracy: 0.4010 - val_loss: 1.7663 - val_accuracy: 0.3410\n",
            "Epoch 37/100\n",
            "157/157 [==============================] - 4s 26ms/step - loss: 1.6658 - accuracy: 0.4048 - val_loss: 1.7611 - val_accuracy: 0.3420\n",
            "Epoch 38/100\n",
            "157/157 [==============================] - 4s 27ms/step - loss: 1.6642 - accuracy: 0.3976 - val_loss: 1.7655 - val_accuracy: 0.3510\n",
            "Epoch 39/100\n",
            "157/157 [==============================] - 4s 26ms/step - loss: 1.6553 - accuracy: 0.4050 - val_loss: 1.7499 - val_accuracy: 0.3560\n",
            "Epoch 40/100\n",
            "157/157 [==============================] - 4s 26ms/step - loss: 1.6451 - accuracy: 0.4060 - val_loss: 1.7487 - val_accuracy: 0.3570\n",
            "Epoch 41/100\n",
            "157/157 [==============================] - 4s 27ms/step - loss: 1.6503 - accuracy: 0.4018 - val_loss: 1.7493 - val_accuracy: 0.3580\n",
            "Epoch 42/100\n",
            "157/157 [==============================] - 4s 27ms/step - loss: 1.6365 - accuracy: 0.4188 - val_loss: 1.7426 - val_accuracy: 0.3630\n",
            "Epoch 43/100\n",
            "157/157 [==============================] - 4s 26ms/step - loss: 1.6363 - accuracy: 0.4186 - val_loss: 1.7356 - val_accuracy: 0.3670\n",
            "Epoch 44/100\n",
            "157/157 [==============================] - 4s 28ms/step - loss: 1.6322 - accuracy: 0.4174 - val_loss: 1.7298 - val_accuracy: 0.3730\n",
            "Epoch 45/100\n",
            "157/157 [==============================] - 4s 27ms/step - loss: 1.6263 - accuracy: 0.4186 - val_loss: 1.7323 - val_accuracy: 0.3700\n",
            "Epoch 46/100\n",
            "157/157 [==============================] - 4s 28ms/step - loss: 1.6167 - accuracy: 0.4178 - val_loss: 1.7261 - val_accuracy: 0.3770\n",
            "Epoch 47/100\n",
            "157/157 [==============================] - 4s 26ms/step - loss: 1.6224 - accuracy: 0.4196 - val_loss: 1.7253 - val_accuracy: 0.3710\n",
            "Epoch 48/100\n",
            "157/157 [==============================] - 4s 26ms/step - loss: 1.6162 - accuracy: 0.4238 - val_loss: 1.7199 - val_accuracy: 0.3720\n",
            "Epoch 49/100\n",
            "157/157 [==============================] - 4s 26ms/step - loss: 1.6163 - accuracy: 0.4252 - val_loss: 1.7152 - val_accuracy: 0.3790\n",
            "Epoch 50/100\n",
            "157/157 [==============================] - 4s 26ms/step - loss: 1.6096 - accuracy: 0.4280 - val_loss: 1.7170 - val_accuracy: 0.3820\n",
            "Epoch 51/100\n",
            "157/157 [==============================] - 5s 29ms/step - loss: 1.6091 - accuracy: 0.4264 - val_loss: 1.7083 - val_accuracy: 0.3800\n",
            "Epoch 52/100\n",
            "157/157 [==============================] - 4s 29ms/step - loss: 1.6060 - accuracy: 0.4248 - val_loss: 1.7090 - val_accuracy: 0.3750\n",
            "Epoch 53/100\n",
            "157/157 [==============================] - 4s 26ms/step - loss: 1.5982 - accuracy: 0.4324 - val_loss: 1.7110 - val_accuracy: 0.3810\n",
            "Epoch 54/100\n",
            "157/157 [==============================] - 4s 24ms/step - loss: 1.5977 - accuracy: 0.4384 - val_loss: 1.7029 - val_accuracy: 0.3810\n",
            "Epoch 55/100\n",
            "157/157 [==============================] - 4s 25ms/step - loss: 1.5992 - accuracy: 0.4330 - val_loss: 1.7000 - val_accuracy: 0.3890\n",
            "Epoch 56/100\n",
            "157/157 [==============================] - 4s 27ms/step - loss: 1.5858 - accuracy: 0.4332 - val_loss: 1.6996 - val_accuracy: 0.3890\n",
            "Epoch 57/100\n",
            "157/157 [==============================] - 4s 26ms/step - loss: 1.5878 - accuracy: 0.4328 - val_loss: 1.6966 - val_accuracy: 0.3830\n",
            "Epoch 58/100\n",
            "157/157 [==============================] - 4s 27ms/step - loss: 1.5787 - accuracy: 0.4398 - val_loss: 1.6938 - val_accuracy: 0.3790\n",
            "Epoch 59/100\n",
            "157/157 [==============================] - 4s 26ms/step - loss: 1.5780 - accuracy: 0.4358 - val_loss: 1.6866 - val_accuracy: 0.3900\n",
            "Epoch 60/100\n",
            "157/157 [==============================] - 5s 30ms/step - loss: 1.5791 - accuracy: 0.4356 - val_loss: 1.6898 - val_accuracy: 0.3870\n",
            "Epoch 61/100\n",
            "157/157 [==============================] - 4s 26ms/step - loss: 1.5735 - accuracy: 0.4404 - val_loss: 1.6863 - val_accuracy: 0.4010\n",
            "Epoch 62/100\n",
            "157/157 [==============================] - 4s 27ms/step - loss: 1.5790 - accuracy: 0.4354 - val_loss: 1.6912 - val_accuracy: 0.3890\n",
            "Epoch 63/100\n",
            "157/157 [==============================] - 4s 26ms/step - loss: 1.5684 - accuracy: 0.4436 - val_loss: 1.6815 - val_accuracy: 0.3900\n",
            "Epoch 64/100\n",
            "157/157 [==============================] - 4s 27ms/step - loss: 1.5664 - accuracy: 0.4432 - val_loss: 1.6787 - val_accuracy: 0.3920\n",
            "Epoch 65/100\n",
            "157/157 [==============================] - 4s 27ms/step - loss: 1.5646 - accuracy: 0.4494 - val_loss: 1.6831 - val_accuracy: 0.3910\n",
            "Epoch 66/100\n",
            "157/157 [==============================] - 4s 26ms/step - loss: 1.5587 - accuracy: 0.4522 - val_loss: 1.6720 - val_accuracy: 0.3960\n",
            "Epoch 67/100\n",
            "157/157 [==============================] - 4s 27ms/step - loss: 1.5605 - accuracy: 0.4514 - val_loss: 1.6696 - val_accuracy: 0.3940\n",
            "Epoch 68/100\n",
            "157/157 [==============================] - 4s 28ms/step - loss: 1.5504 - accuracy: 0.4560 - val_loss: 1.6752 - val_accuracy: 0.4130\n",
            "Epoch 69/100\n",
            "157/157 [==============================] - 4s 26ms/step - loss: 1.5471 - accuracy: 0.4460 - val_loss: 1.6704 - val_accuracy: 0.4050\n",
            "Epoch 70/100\n",
            "157/157 [==============================] - 4s 27ms/step - loss: 1.5473 - accuracy: 0.4514 - val_loss: 1.6645 - val_accuracy: 0.4020\n",
            "Epoch 71/100\n",
            "157/157 [==============================] - 4s 26ms/step - loss: 1.5576 - accuracy: 0.4480 - val_loss: 1.6610 - val_accuracy: 0.3990\n",
            "Epoch 72/100\n",
            "157/157 [==============================] - 4s 26ms/step - loss: 1.5430 - accuracy: 0.4500 - val_loss: 1.6609 - val_accuracy: 0.4080\n",
            "Epoch 73/100\n",
            "157/157 [==============================] - 4s 26ms/step - loss: 1.5444 - accuracy: 0.4452 - val_loss: 1.6596 - val_accuracy: 0.4000\n",
            "Epoch 74/100\n",
            "157/157 [==============================] - 4s 26ms/step - loss: 1.5409 - accuracy: 0.4492 - val_loss: 1.6636 - val_accuracy: 0.3960\n",
            "Epoch 75/100\n",
            "157/157 [==============================] - 4s 26ms/step - loss: 1.5367 - accuracy: 0.4556 - val_loss: 1.6586 - val_accuracy: 0.4010\n",
            "Epoch 76/100\n",
            "157/157 [==============================] - 4s 27ms/step - loss: 1.5358 - accuracy: 0.4560 - val_loss: 1.6562 - val_accuracy: 0.4040\n",
            "Epoch 77/100\n",
            "157/157 [==============================] - 4s 26ms/step - loss: 1.5417 - accuracy: 0.4532 - val_loss: 1.6553 - val_accuracy: 0.3970\n",
            "Epoch 78/100\n",
            "157/157 [==============================] - 4s 25ms/step - loss: 1.5375 - accuracy: 0.4590 - val_loss: 1.6540 - val_accuracy: 0.4100\n",
            "Epoch 79/100\n",
            "157/157 [==============================] - 4s 25ms/step - loss: 1.5245 - accuracy: 0.4586 - val_loss: 1.6487 - val_accuracy: 0.4050\n",
            "Epoch 80/100\n",
            "157/157 [==============================] - 4s 25ms/step - loss: 1.5319 - accuracy: 0.4578 - val_loss: 1.6488 - val_accuracy: 0.4080\n",
            "Epoch 81/100\n",
            "157/157 [==============================] - 4s 25ms/step - loss: 1.5334 - accuracy: 0.4558 - val_loss: 1.6525 - val_accuracy: 0.3930\n",
            "Epoch 82/100\n",
            "157/157 [==============================] - 4s 26ms/step - loss: 1.5274 - accuracy: 0.4600 - val_loss: 1.6473 - val_accuracy: 0.4010\n",
            "Epoch 83/100\n",
            "157/157 [==============================] - 4s 27ms/step - loss: 1.5257 - accuracy: 0.4602 - val_loss: 1.6482 - val_accuracy: 0.4050\n",
            "Epoch 84/100\n",
            "157/157 [==============================] - 4s 28ms/step - loss: 1.5214 - accuracy: 0.4618 - val_loss: 1.6483 - val_accuracy: 0.3950\n",
            "Epoch 85/100\n",
            "157/157 [==============================] - 4s 26ms/step - loss: 1.5176 - accuracy: 0.4602 - val_loss: 1.6442 - val_accuracy: 0.3960\n",
            "Epoch 86/100\n",
            "157/157 [==============================] - 4s 26ms/step - loss: 1.5135 - accuracy: 0.4654 - val_loss: 1.6423 - val_accuracy: 0.4010\n",
            "Epoch 87/100\n",
            "157/157 [==============================] - 5s 29ms/step - loss: 1.5169 - accuracy: 0.4572 - val_loss: 1.6453 - val_accuracy: 0.3920\n",
            "Epoch 88/100\n",
            "157/157 [==============================] - 4s 27ms/step - loss: 1.5111 - accuracy: 0.4576 - val_loss: 1.6436 - val_accuracy: 0.3940\n",
            "Epoch 89/100\n",
            "157/157 [==============================] - 4s 27ms/step - loss: 1.5090 - accuracy: 0.4682 - val_loss: 1.6430 - val_accuracy: 0.4040\n",
            "Epoch 90/100\n",
            "157/157 [==============================] - 5s 30ms/step - loss: 1.5162 - accuracy: 0.4664 - val_loss: 1.6386 - val_accuracy: 0.4070\n",
            "Epoch 91/100\n",
            "157/157 [==============================] - 5s 29ms/step - loss: 1.5030 - accuracy: 0.4686 - val_loss: 1.6352 - val_accuracy: 0.4050\n",
            "Epoch 92/100\n",
            "157/157 [==============================] - 4s 27ms/step - loss: 1.5102 - accuracy: 0.4688 - val_loss: 1.6310 - val_accuracy: 0.4000\n",
            "Epoch 93/100\n",
            "157/157 [==============================] - 4s 25ms/step - loss: 1.4997 - accuracy: 0.4682 - val_loss: 1.6316 - val_accuracy: 0.3980\n",
            "Epoch 94/100\n",
            "157/157 [==============================] - 4s 26ms/step - loss: 1.5032 - accuracy: 0.4714 - val_loss: 1.6289 - val_accuracy: 0.4000\n",
            "Epoch 95/100\n",
            "157/157 [==============================] - 4s 25ms/step - loss: 1.4995 - accuracy: 0.4654 - val_loss: 1.6323 - val_accuracy: 0.3950\n",
            "Epoch 96/100\n",
            "157/157 [==============================] - 4s 26ms/step - loss: 1.4979 - accuracy: 0.4658 - val_loss: 1.6375 - val_accuracy: 0.4030\n",
            "Epoch 97/100\n",
            "157/157 [==============================] - 4s 26ms/step - loss: 1.4967 - accuracy: 0.4702 - val_loss: 1.6340 - val_accuracy: 0.4070\n",
            "Epoch 98/100\n",
            "157/157 [==============================] - 4s 25ms/step - loss: 1.4973 - accuracy: 0.4746 - val_loss: 1.6314 - val_accuracy: 0.4060\n",
            "Epoch 99/100\n",
            "157/157 [==============================] - 4s 26ms/step - loss: 1.4941 - accuracy: 0.4722 - val_loss: 1.6304 - val_accuracy: 0.3960\n",
            "Epoch 100/100\n",
            "157/157 [==============================] - 4s 26ms/step - loss: 1.4975 - accuracy: 0.4718 - val_loss: 1.6219 - val_accuracy: 0.4110\n"
          ]
        }
      ],
      "source": [
        "res10_bn_only = get_Res_N(10,10)\n",
        "\n",
        "for layer in res10_bn_only.layers:\n",
        "    if not isinstance(layer, tf.keras.layers.BatchNormalization):\n",
        "        if hasattr(layer, \"trainable\"):\n",
        "            layer.trainable=False\n",
        "            \n",
        "res10_bn_only.compile(loss=\"sparse_categorical_crossentropy\", optimizer=\"adam\", metrics=[\"accuracy\"])\n",
        "\n",
        "h_res_10 = res10_bn_only.fit(x_train,y_train,\n",
        "         validation_data=(x_test,y_test),\n",
        "         epochs=100)"
      ]
    },
    {
      "cell_type": "code",
      "execution_count": null,
      "metadata": {
        "id": "_nxOarXp_N9q",
        "outputId": "135c8bbe-7126-4c1f-e097-8608ea42d316"
      },
      "outputs": [
        {
          "data": {
            "image/png": "[encoded data removed]",
            "text/plain": [
              "<Figure size 432x288 with 1 Axes>"
            ]
          },
          "metadata": {
            "needs_background": "light"
          },
          "output_type": "display_data"
        }
      ],
      "source": [
        "show_history(np.arange(100),h_res_10.history,\"res10 batch only\")"
      ]
    },
    {
      "cell_type": "code",
      "execution_count": null,
      "metadata": {
        "id": "l-sfCicaUK5k"
      },
      "outputs": [],
      "source": [
        "import string\n",
        "\n",
        "def average_gamma_and_zero_ratio(model,epsilon=0.01):\n",
        "  close_to_zero = 0\n",
        "  sum = 0\n",
        "  total_count = 0\n",
        "  for layer_weights in model.trainable_weights:\n",
        "    if layer_weights.name.find('gamma') != -1:\n",
        "      total_count += layer_weights.shape[0]\n",
        "      sum += np.sum(layer_weights)\n",
        "      close_to_zero += layer_weights[np.abs(layer_weights) < epsilon].shape[0]\n",
        "\n",
        "  average_y = sum / total_count\n",
        "  close_to_zero_ratio = close_to_zero / total_count\n",
        "  return(average_y,close_to_zero_ratio)\n"
      ]
    },
    {
      "cell_type": "code",
      "execution_count": null,
      "metadata": {
        "id": "sGiHVL2E_N9r",
        "outputId": "377730a6-31fa-4f8a-ad52-43ed3d004108"
      },
      "outputs": [
        {
          "name": "stdout",
          "output_type": "stream",
          "text": [
            "(1.001002418005615, 0.0)\n"
          ]
        }
      ],
      "source": [
        "print(average_gamma_and_zero_ratio(base_line))"
      ]
    },
    {
      "cell_type": "code",
      "execution_count": null,
      "metadata": {
        "id": "k9H4MuMU_N9r",
        "outputId": "0ae46199-d9c4-41ac-ff43-237b3f5042d2"
      },
      "outputs": [
        {
          "name": "stdout",
          "output_type": "stream",
          "text": [
            "(0.9810900366157912, 0.0)\n"
          ]
        }
      ],
      "source": [
        "print(average_gamma_and_zero_ratio(res200_bn_only))"
      ]
    },
    {
      "cell_type": "code",
      "execution_count": null,
      "metadata": {
        "id": "FP9FxrpM_N9s",
        "outputId": "1316d317-c607-43ea-d719-59772fab5902"
      },
      "outputs": [
        {
          "name": "stdout",
          "output_type": "stream",
          "text": [
            "(1.0866390088914146, 0.0008802816901408451)\n"
          ]
        }
      ],
      "source": [
        "print(average_gamma_and_zero_ratio(res10_bn_only))"
      ]
    },
    {
      "cell_type": "markdown",
      "metadata": {
        "id": "iHOxkndWWTsk"
      },
      "source": [
        "# Claim 3: Training an equivalent number of randomly-selected parameters per channel performs far worse (56% on CIFAR-10 and 4% top-5 on ImageNet). This demonstrates that γ and β have particularly significant expressive power as per-feature coefficients and biases."
      ]
    },
    {
      "cell_type": "code",
      "execution_count": null,
      "metadata": {
        "id": "1FbXfPus_N9s",
        "outputId": "c655e62b-246b-4ada-d420-24ca4759085f"
      },
      "outputs": [
        {
          "name": "stdout",
          "output_type": "stream",
          "text": [
            "Epoch 1/30\n",
            "157/157 [==============================] - 36s 192ms/step - loss: 205921615872.0000 - accuracy: 0.0932 - val_loss: 224723.9688 - val_accuracy: 0.1050\n",
            "Epoch 2/30\n",
            "157/157 [==============================] - 29s 187ms/step - loss: 109465.5234 - accuracy: 0.1160 - val_loss: 79765.3438 - val_accuracy: 0.1220\n",
            "Epoch 3/30\n",
            "157/157 [==============================] - 30s 189ms/step - loss: 66125.1484 - accuracy: 0.1374 - val_loss: 61535.0352 - val_accuracy: 0.1260\n",
            "Epoch 4/30\n",
            "157/157 [==============================] - 29s 186ms/step - loss: 55296.0508 - accuracy: 0.1442 - val_loss: 60726.3281 - val_accuracy: 0.1260\n",
            "Epoch 5/30\n",
            "157/157 [==============================] - 29s 184ms/step - loss: 43756.1680 - accuracy: 0.1552 - val_loss: 44285.8125 - val_accuracy: 0.1440\n",
            "Epoch 6/30\n",
            "157/157 [==============================] - 29s 185ms/step - loss: 38110.4844 - accuracy: 0.1682 - val_loss: 39170.0703 - val_accuracy: 0.1530\n",
            "Epoch 7/30\n",
            "157/157 [==============================] - 29s 186ms/step - loss: 33217.8438 - accuracy: 0.1714 - val_loss: 44085.5977 - val_accuracy: 0.1400\n",
            "Epoch 8/30\n",
            "157/157 [==============================] - 29s 185ms/step - loss: 30988.9219 - accuracy: 0.1688 - val_loss: 28879.8672 - val_accuracy: 0.1630\n",
            "Epoch 9/30\n",
            "157/157 [==============================] - 29s 187ms/step - loss: 26878.5703 - accuracy: 0.1810 - val_loss: 25053.9707 - val_accuracy: 0.1640\n",
            "Epoch 10/30\n",
            "157/157 [==============================] - 29s 187ms/step - loss: 27185.4648 - accuracy: 0.1754 - val_loss: 32163.0449 - val_accuracy: 0.1450\n",
            "Epoch 11/30\n",
            "157/157 [==============================] - 30s 189ms/step - loss: 25883.9766 - accuracy: 0.1814 - val_loss: 27075.7852 - val_accuracy: 0.1430\n",
            "Epoch 12/30\n",
            "157/157 [==============================] - 31s 197ms/step - loss: 22096.2324 - accuracy: 0.1914 - val_loss: 30424.3320 - val_accuracy: 0.1300\n",
            "Epoch 13/30\n",
            "157/157 [==============================] - 31s 194ms/step - loss: 20570.5352 - accuracy: 0.1928 - val_loss: 22182.1426 - val_accuracy: 0.1560\n",
            "Epoch 14/30\n",
            "157/157 [==============================] - 31s 197ms/step - loss: 20327.7910 - accuracy: 0.1900 - val_loss: 26019.0078 - val_accuracy: 0.1490\n",
            "Epoch 15/30\n",
            "157/157 [==============================] - 30s 189ms/step - loss: 18925.0781 - accuracy: 0.2010 - val_loss: 22289.5762 - val_accuracy: 0.1590\n",
            "Epoch 16/30\n",
            "157/157 [==============================] - 31s 197ms/step - loss: 17475.9609 - accuracy: 0.1956 - val_loss: 26035.0117 - val_accuracy: 0.1430\n",
            "Epoch 17/30\n",
            "157/157 [==============================] - 31s 195ms/step - loss: 15643.6621 - accuracy: 0.1946 - val_loss: 17981.7227 - val_accuracy: 0.1610\n",
            "Epoch 18/30\n",
            "157/157 [==============================] - 30s 192ms/step - loss: 13959.8174 - accuracy: 0.1878 - val_loss: 17089.5137 - val_accuracy: 0.1510\n",
            "Epoch 19/30\n",
            "157/157 [==============================] - 30s 191ms/step - loss: 13582.4717 - accuracy: 0.1956 - val_loss: 18937.3887 - val_accuracy: 0.1770\n",
            "Epoch 20/30\n",
            "157/157 [==============================] - 31s 197ms/step - loss: 12154.5479 - accuracy: 0.1842 - val_loss: 12121.0098 - val_accuracy: 0.1600\n",
            "Epoch 21/30\n",
            "157/157 [==============================] - 30s 193ms/step - loss: 11637.1230 - accuracy: 0.1806 - val_loss: 10476.3691 - val_accuracy: 0.1690\n",
            "Epoch 22/30\n",
            "157/157 [==============================] - 31s 196ms/step - loss: 11274.3623 - accuracy: 0.1830 - val_loss: 11438.3965 - val_accuracy: 0.1710\n",
            "Epoch 23/30\n",
            "157/157 [==============================] - 30s 193ms/step - loss: 9523.3125 - accuracy: 0.1912 - val_loss: 12219.4873 - val_accuracy: 0.1700\n",
            "Epoch 24/30\n",
            "157/157 [==============================] - 30s 188ms/step - loss: 8745.7627 - accuracy: 0.1982 - val_loss: 9540.1123 - val_accuracy: 0.1630\n",
            "Epoch 25/30\n",
            "157/157 [==============================] - 30s 192ms/step - loss: 8291.6074 - accuracy: 0.1914 - val_loss: 7158.0342 - val_accuracy: 0.1850\n",
            "Epoch 26/30\n",
            "157/157 [==============================] - 29s 188ms/step - loss: 7529.1274 - accuracy: 0.1978 - val_loss: 10010.8223 - val_accuracy: 0.1620\n",
            "Epoch 27/30\n",
            "157/157 [==============================] - 31s 199ms/step - loss: 6906.6152 - accuracy: 0.2008 - val_loss: 8339.3506 - val_accuracy: 0.1640\n",
            "Epoch 28/30\n",
            "157/157 [==============================] - 31s 198ms/step - loss: 6659.0762 - accuracy: 0.2010 - val_loss: 6544.7515 - val_accuracy: 0.1870\n",
            "Epoch 29/30\n",
            "157/157 [==============================] - 31s 196ms/step - loss: 6615.6294 - accuracy: 0.1946 - val_loss: 6641.6362 - val_accuracy: 0.1770\n",
            "Epoch 30/30\n",
            "157/157 [==============================] - 30s 191ms/step - loss: 5717.8813 - accuracy: 0.2020 - val_loss: 5584.4473 - val_accuracy: 0.1790\n"
          ]
        }
      ],
      "source": [
        "# randomize batch norm weights and freeze\n",
        "import tensorflow as tf\n",
        "frozen = get_Res_N(100,10)\n",
        "\n",
        "for layer in frozen.layers:\n",
        "  if isinstance(layer,tf.keras.layers.BatchNormalization):\n",
        "    for weights in layer.weights:\n",
        "      weights.assign(np.random.rand(weights.shape[0]))\n",
        "    if hasattr(layer, \"trainable\"):\n",
        "      layer.trainable=False\n",
        "\n",
        "frozen.compile(loss=\"sparse_categorical_crossentropy\", optimizer=\"adam\", metrics=[\"accuracy\"])\n",
        "h_frozen = frozen.fit(x_train,y_train,\n",
        "         validation_data=(x_test,y_test),\n",
        "         epochs=30,verbose=1)"
      ]
    },
    {
      "cell_type": "code",
      "execution_count": null,
      "metadata": {
        "id": "QN1sKvAs_N9t",
        "outputId": "414f8230-1da3-47b3-e8eb-5110f0c66a98"
      },
      "outputs": [
        {
          "data": {
            "image/png": "[encoded data removed]",
            "text/plain": [
              "<Figure size 432x288 with 1 Axes>"
            ]
          },
          "metadata": {
            "needs_background": "light"
          },
          "output_type": "display_data"
        }
      ],
      "source": [
        "h_frozen.history.pop(\"loss\")\n",
        "h_frozen.history.pop(\"val_loss\")\n",
        "show_history(np.arange(30),h_frozen.history)"
      ]
    },
    {
      "cell_type": "markdown",
      "metadata": {
        "id": "nQTN3apaWfM1"
      },
      "source": [
        "# Claim 4: When training all parameters, deeper and wider networks have smaller γ values but few features are outright disabled. This hints at the role γ may play in moderating activations in settings where disabling γ and β leads to lower accuracy"
      ]
    },
    {
      "cell_type": "code",
      "execution_count": null,
      "metadata": {
        "colab": {
          "background_save": true
        },
        "id": "B3feNL0sYTv4",
        "outputId": "8bb362ac-c93e-46a6-f3dd-c66f5b649646"
      },
      "outputs": [
        {
          "name": "stdout",
          "output_type": "stream",
          "text": [
            "Epoch 1/30\n",
            "157/157 [==============================] - 10s 53ms/step - loss: 1.8049 - accuracy: 0.3436 - val_loss: 1.9167 - val_accuracy: 0.2960\n",
            "Epoch 2/30\n",
            "157/157 [==============================] - 8s 49ms/step - loss: 1.4848 - accuracy: 0.4686 - val_loss: 1.8350 - val_accuracy: 0.3700\n",
            "Epoch 3/30\n",
            "157/157 [==============================] - 8s 49ms/step - loss: 1.3090 - accuracy: 0.5366 - val_loss: 2.3712 - val_accuracy: 0.3230\n",
            "Epoch 4/30\n",
            "157/157 [==============================] - 8s 50ms/step - loss: 1.1487 - accuracy: 0.5928 - val_loss: 1.7408 - val_accuracy: 0.3850\n",
            "Epoch 5/30\n",
            "157/157 [==============================] - 8s 50ms/step - loss: 1.0089 - accuracy: 0.6420 - val_loss: 1.8258 - val_accuracy: 0.3820\n",
            "Epoch 6/30\n",
            "157/157 [==============================] - 8s 51ms/step - loss: 0.8638 - accuracy: 0.6978 - val_loss: 3.0474 - val_accuracy: 0.3230\n",
            "Epoch 7/30\n",
            "157/157 [==============================] - 8s 49ms/step - loss: 0.7306 - accuracy: 0.7442 - val_loss: 1.7603 - val_accuracy: 0.4380\n",
            "Epoch 8/30\n",
            "157/157 [==============================] - 8s 51ms/step - loss: 0.5649 - accuracy: 0.8146 - val_loss: 5.1237 - val_accuracy: 0.2600\n",
            "Epoch 9/30\n",
            "157/157 [==============================] - 8s 50ms/step - loss: 0.4686 - accuracy: 0.8402 - val_loss: 3.2294 - val_accuracy: 0.3690\n",
            "Epoch 10/30\n",
            "157/157 [==============================] - 8s 52ms/step - loss: 0.3564 - accuracy: 0.8850 - val_loss: 2.9448 - val_accuracy: 0.3290\n",
            "Epoch 11/30\n",
            "157/157 [==============================] - 9s 56ms/step - loss: 0.2609 - accuracy: 0.9218 - val_loss: 2.4873 - val_accuracy: 0.4480\n",
            "Epoch 12/30\n",
            "157/157 [==============================] - 8s 53ms/step - loss: 0.2623 - accuracy: 0.9186 - val_loss: 2.5927 - val_accuracy: 0.4450\n",
            "Epoch 13/30\n",
            "157/157 [==============================] - 9s 56ms/step - loss: 0.1843 - accuracy: 0.9420 - val_loss: 2.4952 - val_accuracy: 0.4490\n",
            "Epoch 14/30\n",
            "157/157 [==============================] - 8s 51ms/step - loss: 0.1804 - accuracy: 0.9420 - val_loss: 2.3920 - val_accuracy: 0.4560\n",
            "Epoch 15/30\n",
            "157/157 [==============================] - 8s 49ms/step - loss: 0.1420 - accuracy: 0.9582 - val_loss: 2.4731 - val_accuracy: 0.4460\n",
            "Epoch 16/30\n",
            "157/157 [==============================] - 8s 49ms/step - loss: 0.1461 - accuracy: 0.9558 - val_loss: 3.0401 - val_accuracy: 0.4440\n",
            "Epoch 17/30\n",
            "157/157 [==============================] - 8s 50ms/step - loss: 0.0874 - accuracy: 0.9762 - val_loss: 2.3798 - val_accuracy: 0.4800\n",
            "Epoch 18/30\n",
            "157/157 [==============================] - 8s 49ms/step - loss: 0.0731 - accuracy: 0.9796 - val_loss: 2.3273 - val_accuracy: 0.4400\n",
            "Epoch 19/30\n",
            "157/157 [==============================] - 8s 49ms/step - loss: 0.1249 - accuracy: 0.9582 - val_loss: 3.1659 - val_accuracy: 0.4310\n",
            "Epoch 20/30\n",
            "157/157 [==============================] - 8s 49ms/step - loss: 0.1385 - accuracy: 0.9528 - val_loss: 3.8480 - val_accuracy: 0.3890\n",
            "Epoch 21/30\n",
            "157/157 [==============================] - 8s 50ms/step - loss: 0.1529 - accuracy: 0.9496 - val_loss: 2.9492 - val_accuracy: 0.4270\n",
            "Epoch 22/30\n",
            "157/157 [==============================] - 8s 50ms/step - loss: 0.1023 - accuracy: 0.9666 - val_loss: 3.6509 - val_accuracy: 0.4000\n",
            "Epoch 23/30\n",
            "157/157 [==============================] - 8s 49ms/step - loss: 0.0786 - accuracy: 0.9736 - val_loss: 3.1586 - val_accuracy: 0.4440\n",
            "Epoch 24/30\n",
            "157/157 [==============================] - 8s 50ms/step - loss: 0.0542 - accuracy: 0.9842 - val_loss: 2.6533 - val_accuracy: 0.4930\n",
            "Epoch 25/30\n",
            "157/157 [==============================] - 8s 50ms/step - loss: 0.0843 - accuracy: 0.9750 - val_loss: 2.9166 - val_accuracy: 0.4480\n",
            "Epoch 26/30\n",
            "157/157 [==============================] - 8s 49ms/step - loss: 0.1068 - accuracy: 0.9636 - val_loss: 3.7134 - val_accuracy: 0.3830\n",
            "Epoch 27/30\n",
            "157/157 [==============================] - 8s 51ms/step - loss: 0.1685 - accuracy: 0.9420 - val_loss: 2.9509 - val_accuracy: 0.4250\n",
            "Epoch 28/30\n",
            "157/157 [==============================] - 8s 50ms/step - loss: 0.0788 - accuracy: 0.9732 - val_loss: 3.6191 - val_accuracy: 0.3880\n",
            "Epoch 29/30\n",
            "157/157 [==============================] - 9s 55ms/step - loss: 0.0558 - accuracy: 0.9852 - val_loss: 2.8367 - val_accuracy: 0.4980\n",
            "Epoch 30/30\n",
            "157/157 [==============================] - 10s 61ms/step - loss: 0.0649 - accuracy: 0.9788 - val_loss: 3.7941 - val_accuracy: 0.4170\n",
            "Epoch 1/30\n",
            "157/157 [==============================] - 23s 117ms/step - loss: 1.8570 - accuracy: 0.3116 - val_loss: 3.7376 - val_accuracy: 0.1860\n",
            "Epoch 2/30\n",
            "157/157 [==============================] - 17s 109ms/step - loss: 1.5508 - accuracy: 0.4374 - val_loss: 3.2550 - val_accuracy: 0.2480\n",
            "Epoch 3/30\n",
            "157/157 [==============================] - 18s 112ms/step - loss: 1.3923 - accuracy: 0.4976 - val_loss: 1.9852 - val_accuracy: 0.3490\n",
            "Epoch 4/30\n",
            "157/157 [==============================] - 18s 112ms/step - loss: 1.2801 - accuracy: 0.5450 - val_loss: 1.9248 - val_accuracy: 0.3500\n",
            "Epoch 5/30\n",
            "157/157 [==============================] - 18s 114ms/step - loss: 1.1495 - accuracy: 0.5848 - val_loss: 1.9337 - val_accuracy: 0.4020\n",
            "Epoch 6/30\n",
            "157/157 [==============================] - 19s 122ms/step - loss: 1.0565 - accuracy: 0.6206 - val_loss: 1.7221 - val_accuracy: 0.4580\n",
            "Epoch 7/30\n",
            "157/157 [==============================] - 18s 117ms/step - loss: 0.9326 - accuracy: 0.6702 - val_loss: 1.7119 - val_accuracy: 0.4250\n",
            "Epoch 8/30\n",
            "157/157 [==============================] - 18s 113ms/step - loss: 0.8408 - accuracy: 0.7040 - val_loss: 2.5955 - val_accuracy: 0.3040\n",
            "Epoch 9/30\n",
            "157/157 [==============================] - 18s 112ms/step - loss: 0.7558 - accuracy: 0.7372 - val_loss: 2.3450 - val_accuracy: 0.4090\n",
            "Epoch 10/30\n",
            "157/157 [==============================] - 17s 111ms/step - loss: 0.6417 - accuracy: 0.7732 - val_loss: 2.3847 - val_accuracy: 0.4070\n",
            "Epoch 11/30\n",
            "157/157 [==============================] - 18s 113ms/step - loss: 0.5233 - accuracy: 0.8192 - val_loss: 2.6311 - val_accuracy: 0.3350\n",
            "Epoch 12/30\n",
            "157/157 [==============================] - 18s 113ms/step - loss: 0.4459 - accuracy: 0.8468 - val_loss: 2.2418 - val_accuracy: 0.4310\n",
            "Epoch 13/30\n",
            "157/157 [==============================] - 18s 115ms/step - loss: 0.3975 - accuracy: 0.8584 - val_loss: 2.4608 - val_accuracy: 0.4330\n",
            "Epoch 14/30\n",
            "157/157 [==============================] - 18s 112ms/step - loss: 0.2695 - accuracy: 0.9136 - val_loss: 2.0690 - val_accuracy: 0.4720\n",
            "Epoch 15/30\n",
            "157/157 [==============================] - 18s 116ms/step - loss: 0.2519 - accuracy: 0.9178 - val_loss: 3.6011 - val_accuracy: 0.4030\n",
            "Epoch 16/30\n",
            "157/157 [==============================] - 18s 117ms/step - loss: 0.2773 - accuracy: 0.9084 - val_loss: 2.5545 - val_accuracy: 0.4450\n",
            "Epoch 17/30\n",
            "157/157 [==============================] - 18s 117ms/step - loss: 0.2066 - accuracy: 0.9368 - val_loss: 2.5655 - val_accuracy: 0.4400\n",
            "Epoch 18/30\n",
            "157/157 [==============================] - 19s 121ms/step - loss: 0.1926 - accuracy: 0.9382 - val_loss: 2.8070 - val_accuracy: 0.4440\n",
            "Epoch 19/30\n",
            "157/157 [==============================] - 18s 116ms/step - loss: 0.1598 - accuracy: 0.9480 - val_loss: 3.1716 - val_accuracy: 0.4110\n",
            "Epoch 20/30\n",
            "157/157 [==============================] - 19s 119ms/step - loss: 0.1366 - accuracy: 0.9562 - val_loss: 2.8401 - val_accuracy: 0.4390\n",
            "Epoch 21/30\n",
            "157/157 [==============================] - 19s 118ms/step - loss: 0.1466 - accuracy: 0.9492 - val_loss: 2.6335 - val_accuracy: 0.4540\n",
            "Epoch 22/30\n",
            "157/157 [==============================] - 18s 117ms/step - loss: 0.1524 - accuracy: 0.9460 - val_loss: 2.5818 - val_accuracy: 0.4850\n",
            "Epoch 23/30\n",
            "157/157 [==============================] - 18s 114ms/step - loss: 0.1171 - accuracy: 0.9604 - val_loss: 3.1273 - val_accuracy: 0.4270\n",
            "Epoch 24/30\n",
            "157/157 [==============================] - 18s 114ms/step - loss: 0.1160 - accuracy: 0.9646 - val_loss: 2.3925 - val_accuracy: 0.4730\n",
            "Epoch 25/30\n",
            "157/157 [==============================] - 18s 116ms/step - loss: 0.1043 - accuracy: 0.9662 - val_loss: 2.3973 - val_accuracy: 0.4890\n",
            "Epoch 26/30\n",
            "157/157 [==============================] - 19s 122ms/step - loss: 0.1174 - accuracy: 0.9606 - val_loss: 2.8418 - val_accuracy: 0.4470\n",
            "Epoch 27/30\n",
            "157/157 [==============================] - 19s 124ms/step - loss: 0.0827 - accuracy: 0.9730 - val_loss: 2.6329 - val_accuracy: 0.5160\n",
            "Epoch 28/30\n",
            "157/157 [==============================] - 20s 128ms/step - loss: 0.1466 - accuracy: 0.9514 - val_loss: 3.6733 - val_accuracy: 0.3980\n",
            "Epoch 29/30\n",
            "157/157 [==============================] - 19s 123ms/step - loss: 0.0951 - accuracy: 0.9694 - val_loss: 2.4327 - val_accuracy: 0.4750\n",
            "Epoch 30/30\n",
            "157/157 [==============================] - 18s 117ms/step - loss: 0.1052 - accuracy: 0.9634 - val_loss: 3.8032 - val_accuracy: 0.4510\n",
            "Epoch 1/30\n",
            "157/157 [==============================] - 49s 234ms/step - loss: 1.9168 - accuracy: 0.2954 - val_loss: 3.9938 - val_accuracy: 0.1490\n",
            "Epoch 2/30\n",
            "157/157 [==============================] - 33s 211ms/step - loss: 1.6033 - accuracy: 0.4162 - val_loss: 3.0056 - val_accuracy: 0.2280\n",
            "Epoch 3/30\n",
            "157/157 [==============================] - 32s 205ms/step - loss: 1.4620 - accuracy: 0.4724 - val_loss: 3.0822 - val_accuracy: 0.2180\n",
            "Epoch 4/30\n",
            "157/157 [==============================] - 32s 203ms/step - loss: 1.3324 - accuracy: 0.5096 - val_loss: 1.5752 - val_accuracy: 0.4400\n",
            "Epoch 5/30\n",
            "157/157 [==============================] - 32s 203ms/step - loss: 1.2099 - accuracy: 0.5710 - val_loss: 2.0075 - val_accuracy: 0.3760\n",
            "Epoch 6/30\n",
            "157/157 [==============================] - 32s 202ms/step - loss: 1.1420 - accuracy: 0.5922 - val_loss: 1.7876 - val_accuracy: 0.4060\n",
            "Epoch 7/30\n",
            "157/157 [==============================] - 32s 204ms/step - loss: 1.0306 - accuracy: 0.6332 - val_loss: 1.9411 - val_accuracy: 0.3780\n",
            "Epoch 8/30\n",
            "157/157 [==============================] - 32s 202ms/step - loss: 0.9188 - accuracy: 0.6734 - val_loss: 2.5509 - val_accuracy: 0.3310\n",
            "Epoch 9/30\n",
            "157/157 [==============================] - 32s 203ms/step - loss: 0.7984 - accuracy: 0.7186 - val_loss: 1.9284 - val_accuracy: 0.4460\n",
            "Epoch 10/30\n",
            "157/157 [==============================] - 34s 218ms/step - loss: 0.6880 - accuracy: 0.7560 - val_loss: 2.9119 - val_accuracy: 0.3540\n",
            "Epoch 11/30\n",
            "157/157 [==============================] - 48s 308ms/step - loss: 0.6142 - accuracy: 0.7764 - val_loss: 2.7828 - val_accuracy: 0.3570\n",
            "Epoch 12/30\n",
            "157/157 [==============================] - 33s 212ms/step - loss: 0.4791 - accuracy: 0.8310 - val_loss: 2.4884 - val_accuracy: 0.3660\n",
            "Epoch 13/30\n",
            "157/157 [==============================] - 36s 230ms/step - loss: 0.4143 - accuracy: 0.8576 - val_loss: 3.3416 - val_accuracy: 0.3280\n",
            "Epoch 14/30\n",
            "157/157 [==============================] - 35s 221ms/step - loss: 0.3015 - accuracy: 0.9004 - val_loss: 2.1064 - val_accuracy: 0.4880\n",
            "Epoch 15/30\n",
            "157/157 [==============================] - 35s 226ms/step - loss: 0.2915 - accuracy: 0.9008 - val_loss: 2.3175 - val_accuracy: 0.4570\n",
            "Epoch 16/30\n",
            "157/157 [==============================] - 35s 221ms/step - loss: 0.2412 - accuracy: 0.9180 - val_loss: 2.6820 - val_accuracy: 0.4580\n",
            "Epoch 17/30\n",
            "157/157 [==============================] - 34s 219ms/step - loss: 0.1927 - accuracy: 0.9352 - val_loss: 2.3704 - val_accuracy: 0.4630\n",
            "Epoch 18/30\n",
            "157/157 [==============================] - 39s 247ms/step - loss: 0.1824 - accuracy: 0.9388 - val_loss: 2.2710 - val_accuracy: 0.4800\n",
            "Epoch 19/30\n",
            "157/157 [==============================] - 34s 218ms/step - loss: 0.1508 - accuracy: 0.9538 - val_loss: 2.5668 - val_accuracy: 0.4820\n",
            "Epoch 20/30\n",
            "157/157 [==============================] - 34s 219ms/step - loss: 0.1225 - accuracy: 0.9588 - val_loss: 2.6502 - val_accuracy: 0.4690\n",
            "Epoch 21/30\n",
            "157/157 [==============================] - 34s 215ms/step - loss: 0.1702 - accuracy: 0.9472 - val_loss: 2.4381 - val_accuracy: 0.4700\n",
            "Epoch 22/30\n",
            "157/157 [==============================] - 36s 231ms/step - loss: 0.1670 - accuracy: 0.9492 - val_loss: 5.7353 - val_accuracy: 0.2720\n",
            "Epoch 23/30\n",
            "157/157 [==============================] - 36s 230ms/step - loss: 0.0944 - accuracy: 0.9708 - val_loss: 2.3819 - val_accuracy: 0.4920\n",
            "Epoch 24/30\n",
            "157/157 [==============================] - 39s 247ms/step - loss: 0.0853 - accuracy: 0.9726 - val_loss: 3.3346 - val_accuracy: 0.4270\n",
            "Epoch 25/30\n",
            "157/157 [==============================] - 34s 219ms/step - loss: 0.1171 - accuracy: 0.9608 - val_loss: 3.0950 - val_accuracy: 0.4680\n",
            "Epoch 26/30\n",
            "157/157 [==============================] - 35s 226ms/step - loss: 0.1464 - accuracy: 0.9518 - val_loss: 4.7342 - val_accuracy: 0.3830\n",
            "Epoch 27/30\n",
            "157/157 [==============================] - 33s 212ms/step - loss: 0.0832 - accuracy: 0.9732 - val_loss: 2.5596 - val_accuracy: 0.4910\n",
            "Epoch 28/30\n",
            "157/157 [==============================] - 35s 222ms/step - loss: 0.1370 - accuracy: 0.9526 - val_loss: 2.9511 - val_accuracy: 0.4710\n",
            "Epoch 29/30\n",
            "157/157 [==============================] - 33s 211ms/step - loss: 0.0849 - accuracy: 0.9724 - val_loss: 2.9576 - val_accuracy: 0.4620\n",
            "Epoch 30/30\n",
            "157/157 [==============================] - 33s 212ms/step - loss: 0.0606 - accuracy: 0.9814 - val_loss: 2.6466 - val_accuracy: 0.4850\n"
          ]
        }
      ],
      "source": [
        "list = [20, 56, 110]\n",
        "models = []\n",
        "histories = []\n",
        "\n",
        "for i in list:\n",
        "  model = get_Res_N(i,10)\n",
        "  model.compile(loss=\"sparse_categorical_crossentropy\", optimizer=\"adam\", metrics=[\"accuracy\"])\n",
        "  h = model.fit(x_train,y_train,\n",
        "         validation_data=(x_test,y_test),\n",
        "         epochs=30,verbose=1)\n",
        "  h.history.pop(\"loss\")\n",
        "  h.history.pop(\"val_loss\")\n",
        "  models.append(model)\n",
        "  histories.append(h)\n"
      ]
    },
    {
      "cell_type": "code",
      "execution_count": null,
      "metadata": {
        "id": "0pnJn2cv_N9t",
        "outputId": "2ca5ade7-beba-4656-83b5-0c2ba99fa626"
      },
      "outputs": [
        {
          "data": {
            "image/png": "[encoded data removed]",
            "text/plain": [
              "<Figure size 432x288 with 1 Axes>"
            ]
          },
          "metadata": {
            "needs_background": "light"
          },
          "output_type": "display_data"
        }
      ],
      "source": [
        "plt.figure()\n",
        "plt.title(\"Val Accuracy vs Epoch\")\n",
        "plt.xlabel(\"Epoch\")\n",
        "plt.ylabel(\"Val Accuracy\")\n",
        "plt.plot(np.arange(30),histories[0].history[\"val_accuracy\"],label = \"Res20\")\n",
        "plt.plot(np.arange(30),histories[1].history[\"val_accuracy\"],label = \"Res56\")\n",
        "plt.plot(np.arange(30),histories[2].history[\"val_accuracy\"],label = \"Res110\")\n",
        "plt.plot(np.arange(30),h_base.history[\"val_accuracy\"],label = \"Res200\")\n",
        "plt.legend()\n",
        "plt.show()"
      ]
    },
    {
      "cell_type": "code",
      "execution_count": null,
      "metadata": {
        "id": "HcmzclFv_N9u",
        "outputId": "bfd41c73-5062-4685-b391-67354b9b1753"
      },
      "outputs": [
        {
          "data": {
            "image/png": "[encoded data removed]",
            "text/plain": [
              "<Figure size 432x288 with 1 Axes>"
            ]
          },
          "metadata": {
            "needs_background": "light"
          },
          "output_type": "display_data"
        }
      ],
      "source": [
        "plt.figure()\n",
        "plt.title(\"Average Gamma and close_to_zero_ratio\")\n",
        "\n",
        "plt.bar(0,average_gamma_and_zero_ratio(models[0])[0],label = \"Res20\")\n",
        "plt.bar(1,average_gamma_and_zero_ratio(models[1])[0],label = \"Res56\")\n",
        "plt.bar(2,average_gamma_and_zero_ratio(models[2])[0],label = \"Res110\")\n",
        "plt.bar(3,average_gamma_and_zero_ratio(base_line)[0],label = \"Res200\")\n",
        "l =[]\n",
        "l.append(average_gamma_and_zero_ratio(models[0])[1])\n",
        "l.append(average_gamma_and_zero_ratio(models[0])[1])\n",
        "l.append(average_gamma_and_zero_ratio(models[0])[1])\n",
        "l.append(average_gamma_and_zero_ratio(base_line)[1])\n",
        "plt.plot(np.arange(4),l,label = \"ratio\")\n",
        "plt.legend()\n",
        "plt.show()"
      ]
    }
  ],
  "metadata": {
    "accelerator": "GPU",
    "colab": {
      "name": "551final.ipynb",
      "provenance": [],
      "collapsed_sections": []
    },
    "kernelspec": {
      "display_name": "Python 3",
      "name": "python3"
    },
    "language_info": {
      "codemirror_mode": {
        "name": "ipython",
        "version": 3
      },
      "file_extension": ".py",
      "mimetype": "text/x-python",
      "name": "python",
      "nbconvert_exporter": "python",
      "pygments_lexer": "ipython3",
      "version": "3.8.10"
    }
  },
  "nbformat": 4,
  "nbformat_minor": 0
}